{
 "cells": [
  {
   "cell_type": "code",
   "execution_count": 16,
   "metadata": {},
   "outputs": [],
   "source": [
    "import pandas as pd\n",
    "import numpy as np\n",
    "import pymongo\n",
    "from hmmlearn.hmm import CategoricalHMM\n",
    "\n",
    "from sklearn.model_selection import train_test_split\n"
   ]
  },
  {
   "cell_type": "code",
   "execution_count": 17,
   "metadata": {},
   "outputs": [],
   "source": [
    "import warnings\n",
    "\n",
    "warnings.filterwarnings(action=\"ignore\")"
   ]
  },
  {
   "cell_type": "code",
   "execution_count": 18,
   "metadata": {},
   "outputs": [],
   "source": [
    "# data 기본 경로\n",
    "ABSOLUTE_PATH = \"C:\\\\Users\\\\rudnf\\\\vscode\\\\Graduation\\\\final\\\\data\\\\\"\n",
    "SEASONS = [\"spring\", \"summer\", \"fall\", \"winter\"]\n",
    "KS = [25, 50, 75, 100]\n",
    "\n",
    "MONGO_URI = \"mongodb://localhost:27017/\""
   ]
  },
  {
   "cell_type": "code",
   "execution_count": 19,
   "metadata": {},
   "outputs": [],
   "source": [
    "def season_match(season):\n",
    "    months = []\n",
    "    if season == \"spring\":\n",
    "        months = [\"03\", \"04\", \"05\"]\n",
    "    if season == \"summer\":\n",
    "        months = [\"06\", \"07\", \"08\"]\n",
    "    if season == \"fall\":\n",
    "        months = [\"09\", \"10\", \"11\"]\n",
    "    if season == \"winter\":\n",
    "        months = [\"12\", \"01\", \"02\"]\n",
    "    return months"
   ]
  },
  {
   "cell_type": "code",
   "execution_count": 20,
   "metadata": {},
   "outputs": [],
   "source": [
    "import ast\n",
    "def df_str_to_list(df):\n",
    "    try:\n",
    "        columns = ['trajectory_id', 'POI_sequence', 'time_period_sequence']\n",
    "        for column in columns:\n",
    "            df[column] = df[column].apply(ast.literal_eval)\n",
    "        return df\n",
    "    except (ValueError, SyntaxError):\n",
    "        print(\"Invalid input string format.\")\n",
    "        "
   ]
  },
  {
   "cell_type": "code",
   "execution_count": 21,
   "metadata": {},
   "outputs": [],
   "source": [
    "def label_sequence(POI_sequence, time_period_sequence):\n",
    "    l_sequence = []\n",
    "    for idx in range(0, len(POI_sequence)):\n",
    "        LID = int(POI_sequence[idx].replace('POI', ''))\n",
    "        T = 0\n",
    "        \n",
    "        if time_period_sequence[idx] == 'dawn':\n",
    "            T = 0\n",
    "        elif time_period_sequence[idx] == 'morning':\n",
    "            T = 1\n",
    "        if time_period_sequence[idx] == 'afternoon':\n",
    "            T = 2\n",
    "        elif time_period_sequence[idx] == 'night':\n",
    "            T = 3\n",
    "            \n",
    "        l_sequence.append( LID * 4 + T )\n",
    "    return l_sequence"
   ]
  },
  {
   "cell_type": "code",
   "execution_count": 22,
   "metadata": {},
   "outputs": [],
   "source": [
    "#****************** initial probability **********************#\n",
    "def calculate_initial_probability(X, n_components, smoothing_factor=1.0):\n",
    "    start_count = np.zeros(n_components)\n",
    "    start_proba = np.zeros(n_components)\n",
    "\n",
    "    # start_point\n",
    "    for value in X[:, 1]:\n",
    "        start_count[int(value.replace(\"POI\", \"\"))] += 1\n",
    "\n",
    "    total = np.sum(start_count)\n",
    "    \n",
    "    ## Laplace 스무딩적용\n",
    "    start_proba = (start_count + smoothing_factor) / (total + n_components)\n",
    "    return start_proba\n"
   ]
  },
  {
   "cell_type": "code",
   "execution_count": 23,
   "metadata": {},
   "outputs": [],
   "source": [
    "# #****************** transition probability **********************#\n",
    "# # transition_matrix : transition 횟수 count 저장, transition_probability : transition 확률 저장\n",
    "def calculate_transition_probability(X, n_components, smoothing_factor=1.0):\n",
    "    \n",
    "    transition_count = np.zeros((n_components, n_components))  \n",
    "    transition_proba = np.zeros((n_components, n_components))\n",
    "    \n",
    "    # transition 횟수 count\n",
    "    # X[:, 2] : 'path'\n",
    "    for trajectory in X[:, 3]:\n",
    "\n",
    "        for i in range(len(trajectory) - 1):\n",
    "            cur_POI_num = int(trajectory[i].replace('POI',''))\n",
    "            next_POI_num = int(trajectory[i+1].replace('POI',''))\n",
    "            \n",
    "            transition_count[cur_POI_num, next_POI_num] += 1\n",
    "            \n",
    "\n",
    "    for i in range(len(transition_count)):\n",
    "        total = np.sum(transition_count[i])\n",
    "        \n",
    "        ## Laplace 스무딩적용\n",
    "        transition_proba[i] = (transition_count[i] + smoothing_factor) / (total + n_components)\n",
    "    return transition_proba\n"
   ]
  },
  {
   "cell_type": "code",
   "execution_count": 24,
   "metadata": {},
   "outputs": [],
   "source": [
    "#****************** emission probability **********************#\n",
    "# 각 POI일때 label sequence가 나올확률\n",
    "def calculate_emission_probability(X, n_components, n_features, smoothing_factor=1.0):\n",
    "        # emission Probability 구하기\n",
    "    emission_count = np.zeros(shape=(n_components, n_features))\n",
    "    emission_proba = np.zeros(shape=(n_components, n_features))\n",
    " \n",
    "    # X[:, [2,4]] : ['POI_sequence','l_sequence']\n",
    "    for p, l_seq in X[:, [3,5]]:\n",
    "        for cur_POI_num, cur_l_seq in zip(p, l_seq):\n",
    "            cur_POI_num = int(cur_POI_num.replace('POI',''))\n",
    "            emission_count[cur_POI_num][cur_l_seq] +=1\n",
    "        \n",
    "\n",
    "    for i in range(len(emission_count)):\n",
    "        total = np.sum(emission_count[i])\n",
    "        \n",
    "         ## Laplace 스무딩적용\n",
    "        emission_proba[i] = (emission_count[i] + smoothing_factor) / (total + n_features)\n",
    "\n",
    "    return emission_proba\n"
   ]
  },
  {
   "cell_type": "code",
   "execution_count": 25,
   "metadata": {},
   "outputs": [],
   "source": [
    "def _get_collection_data(mongo_uri, db_name, collection_name):\n",
    "    client = pymongo.MongoClient(mongo_uri)\n",
    "\n",
    "    db = client[db_name]\n",
    "    collection = db[collection_name]\n",
    "\n",
    "    data = list(collection.find({}, {\"_id\": 0}))\n",
    "\n",
    "    client.close()\n",
    "\n",
    "    return data\n"
   ]
  },
  {
   "cell_type": "code",
   "execution_count": 26,
   "metadata": {},
   "outputs": [],
   "source": [
    "def get_trajectory(season, k):\n",
    "    db_name = f\"{season}\"\n",
    "\n",
    "    months = season_match(season)\n",
    "    \n",
    "    all_data = []\n",
    "    for month in months :    \n",
    "        collection_trajectory_name = f\"trajectory_{month}_cluster_{k}\"\n",
    "        data = _get_collection_data(MONGO_URI, db_name, collection_trajectory_name)\n",
    "        all_data.extend(data)\n",
    "    return pd.DataFrame(all_data)\n",
    "    "
   ]
  },
  {
   "cell_type": "markdown",
   "metadata": {},
   "source": [
    "# Top 3 "
   ]
  },
  {
   "cell_type": "code",
   "execution_count": 27,
   "metadata": {},
   "outputs": [],
   "source": [
    "def get_next_top3_POI(hmm_model, user_trajectory):\n",
    "    \n",
    "    X = np.array(user_trajectory)\n",
    "\n",
    "    # X_test의 한 row에 대해 0~N_COMPONENTS까지 추가한 새로운 row들\n",
    "    # sequences는 한 X_test 의 row에 대해 0 ~ N_COMPONENTS까지 추가한 sequence이기 때문에 모두 길이가 같다\n",
    "    can_sequences = [np.append(X, i) for i in range(hmm_model.n_features)]\n",
    "\n",
    "\n",
    "    # HMM viterbi 과정\n",
    "    # (Log likelihood, Hidden state sequence) return \n",
    "    decodes = [hmm_model.decode(seq.reshape(-1,1)) for seq in can_sequences]\n",
    "\n",
    "    sorted_decode = sorted(decodes, key=lambda x:x[0])[::-1]\n",
    "\n",
    "    # 순서대로 1, 2, 3\n",
    "    unique_top_3_indices = []\n",
    "    for log_likelihood, hidden_state_seq in sorted_decode:\n",
    "        recommendation_POI = hidden_state_seq[-1]\n",
    "        if recommendation_POI not in unique_top_3_indices:\n",
    "            unique_top_3_indices.append(recommendation_POI)\n",
    "        \n",
    "        if len(unique_top_3_indices) == 3:\n",
    "            break\n",
    "    return unique_top_3_indices\n"
   ]
  },
  {
   "cell_type": "code",
   "execution_count": 28,
   "metadata": {},
   "outputs": [],
   "source": [
    "def top_n_accuracy(correct, predict, n):\n",
    "    correct_at_n = sum(1 if c in predict[i][:n] else 0 for i, c in enumerate(correct))\n",
    "    top_n_accuracy = correct_at_n / len(correct)\n",
    "    return top_n_accuracy"
   ]
  },
  {
   "cell_type": "code",
   "execution_count": 30,
   "metadata": {},
   "outputs": [
    {
     "name": "stdout",
     "output_type": "stream",
     "text": [
      "Season : spring, K : 25\n",
      "Top-N Accuracy: 0.7971900826446281\n"
     ]
    },
    {
     "ename": "ValueError",
     "evalue": "cannot set a row with mismatched columns",
     "output_type": "error",
     "traceback": [
      "\u001b[1;31m---------------------------------------------------------------------------\u001b[0m",
      "\u001b[1;31mValueError\u001b[0m                                Traceback (most recent call last)",
      "\u001b[1;32mc:\\Users\\rudnf\\vscode\\Graduation\\final\\recommendation\\seasonal_top3.ipynb 셀 15\u001b[0m line \u001b[0;36m5\n\u001b[0;32m     <a href='vscode-notebook-cell:/c%3A/Users/rudnf/vscode/Graduation/final/recommendation/seasonal_top3.ipynb#X20sZmlsZQ%3D%3D?line=47'>48</a>\u001b[0m top_N \u001b[39m=\u001b[39m top_n_accuracy(current_path_last_point, predict_next_point, n_value)\n\u001b[0;32m     <a href='vscode-notebook-cell:/c%3A/Users/rudnf/vscode/Graduation/final/recommendation/seasonal_top3.ipynb#X20sZmlsZQ%3D%3D?line=49'>50</a>\u001b[0m \u001b[39mprint\u001b[39m(\u001b[39m\"\u001b[39m\u001b[39mTop-N Accuracy:\u001b[39m\u001b[39m\"\u001b[39m, top_N)\n\u001b[1;32m---> <a href='vscode-notebook-cell:/c%3A/Users/rudnf/vscode/Graduation/final/recommendation/seasonal_top3.ipynb#X20sZmlsZQ%3D%3D?line=51'>52</a>\u001b[0m seasonal_result_df\u001b[39m.\u001b[39;49mloc[idx] \u001b[39m=\u001b[39m [k, top_N]\n\u001b[0;32m     <a href='vscode-notebook-cell:/c%3A/Users/rudnf/vscode/Graduation/final/recommendation/seasonal_top3.ipynb#X20sZmlsZQ%3D%3D?line=52'>53</a>\u001b[0m idx \u001b[39m+\u001b[39m\u001b[39m=\u001b[39m \u001b[39m1\u001b[39m\n",
      "File \u001b[1;32mc:\\Users\\rudnf\\AppData\\Local\\Programs\\Python\\Python311\\Lib\\site-packages\\pandas\\core\\indexing.py:885\u001b[0m, in \u001b[0;36m_LocationIndexer.__setitem__\u001b[1;34m(self, key, value)\u001b[0m\n\u001b[0;32m    882\u001b[0m \u001b[39mself\u001b[39m\u001b[39m.\u001b[39m_has_valid_setitem_indexer(key)\n\u001b[0;32m    884\u001b[0m iloc \u001b[39m=\u001b[39m \u001b[39mself\u001b[39m \u001b[39mif\u001b[39;00m \u001b[39mself\u001b[39m\u001b[39m.\u001b[39mname \u001b[39m==\u001b[39m \u001b[39m\"\u001b[39m\u001b[39miloc\u001b[39m\u001b[39m\"\u001b[39m \u001b[39melse\u001b[39;00m \u001b[39mself\u001b[39m\u001b[39m.\u001b[39mobj\u001b[39m.\u001b[39miloc\n\u001b[1;32m--> 885\u001b[0m iloc\u001b[39m.\u001b[39;49m_setitem_with_indexer(indexer, value, \u001b[39mself\u001b[39;49m\u001b[39m.\u001b[39;49mname)\n",
      "File \u001b[1;32mc:\\Users\\rudnf\\AppData\\Local\\Programs\\Python\\Python311\\Lib\\site-packages\\pandas\\core\\indexing.py:1883\u001b[0m, in \u001b[0;36m_iLocIndexer._setitem_with_indexer\u001b[1;34m(self, indexer, value, name)\u001b[0m\n\u001b[0;32m   1880\u001b[0m     indexer, missing \u001b[39m=\u001b[39m convert_missing_indexer(indexer)\n\u001b[0;32m   1882\u001b[0m     \u001b[39mif\u001b[39;00m missing:\n\u001b[1;32m-> 1883\u001b[0m         \u001b[39mself\u001b[39;49m\u001b[39m.\u001b[39;49m_setitem_with_indexer_missing(indexer, value)\n\u001b[0;32m   1884\u001b[0m         \u001b[39mreturn\u001b[39;00m\n\u001b[0;32m   1886\u001b[0m \u001b[39mif\u001b[39;00m name \u001b[39m==\u001b[39m \u001b[39m\"\u001b[39m\u001b[39mloc\u001b[39m\u001b[39m\"\u001b[39m:\n\u001b[0;32m   1887\u001b[0m     \u001b[39m# must come after setting of missing\u001b[39;00m\n",
      "File \u001b[1;32mc:\\Users\\rudnf\\AppData\\Local\\Programs\\Python\\Python311\\Lib\\site-packages\\pandas\\core\\indexing.py:2219\u001b[0m, in \u001b[0;36m_iLocIndexer._setitem_with_indexer_missing\u001b[1;34m(self, indexer, value)\u001b[0m\n\u001b[0;32m   2216\u001b[0m     \u001b[39mif\u001b[39;00m is_list_like_indexer(value):\n\u001b[0;32m   2217\u001b[0m         \u001b[39m# must have conforming columns\u001b[39;00m\n\u001b[0;32m   2218\u001b[0m         \u001b[39mif\u001b[39;00m \u001b[39mlen\u001b[39m(value) \u001b[39m!=\u001b[39m \u001b[39mlen\u001b[39m(\u001b[39mself\u001b[39m\u001b[39m.\u001b[39mobj\u001b[39m.\u001b[39mcolumns):\n\u001b[1;32m-> 2219\u001b[0m             \u001b[39mraise\u001b[39;00m \u001b[39mValueError\u001b[39;00m(\u001b[39m\"\u001b[39m\u001b[39mcannot set a row with mismatched columns\u001b[39m\u001b[39m\"\u001b[39m)\n\u001b[0;32m   2221\u001b[0m     value \u001b[39m=\u001b[39m Series(value, index\u001b[39m=\u001b[39m\u001b[39mself\u001b[39m\u001b[39m.\u001b[39mobj\u001b[39m.\u001b[39mcolumns, name\u001b[39m=\u001b[39mindexer)\n\u001b[0;32m   2223\u001b[0m \u001b[39mif\u001b[39;00m \u001b[39mnot\u001b[39;00m \u001b[39mlen\u001b[39m(\u001b[39mself\u001b[39m\u001b[39m.\u001b[39mobj):\n\u001b[0;32m   2224\u001b[0m     \u001b[39m# We will ignore the existing dtypes instead of using\u001b[39;00m\n\u001b[0;32m   2225\u001b[0m     \u001b[39m#  internals.concat logic\u001b[39;00m\n",
      "\u001b[1;31mValueError\u001b[0m: cannot set a row with mismatched columns"
     ]
    }
   ],
   "source": [
    "seasonal_result_df = pd.DataFrame(columns=['season', 'K', 'Top N accuracy'])\n",
    "\n",
    "idx =0\n",
    "for season in SEASONS:\n",
    "    for k in KS:      \n",
    "        print(f\"Season : {season}, K : {k}\")\n",
    "\n",
    "       \n",
    "        trajectory = get_trajectory(season, k)\n",
    "        trajectory = df_str_to_list(trajectory)\n",
    "        trajectory['l_sequence'] = [np.array(label_sequence(POI_sequence, time_period_sequence)) for POI_sequence, time_period_sequence in trajectory[['POI_sequence', 'time_period_sequence']].values]\n",
    "\n",
    "\n",
    "        select_columns = ['trajectory_id', 'start_point', 'end_point', 'POI_sequence', 'time_period_sequence', 'l_sequence']\n",
    "        X = np.array(trajectory[select_columns])\n",
    "\n",
    "        X_train, X_test = train_test_split(X, test_size=0.3)\n",
    "\n",
    "        # time_period 수\n",
    "        TIME_PERIOD = 4\n",
    "        # cluster 수 : Hidden State수\n",
    "        n_components = k\n",
    "        n_features = n_components * TIME_PERIOD\n",
    "\n",
    "\n",
    "        # 모델 불러오기\n",
    "        hmm_model = CategoricalHMM(n_components=n_components, n_features=n_features)\n",
    "    \n",
    "\n",
    "        hmm_model.startprob_ = calculate_initial_probability(X_train, n_components)\n",
    "        hmm_model.transmat_ = calculate_transition_probability(X_train, n_components)\n",
    "        hmm_model.emissionprob_ = calculate_emission_probability(X_train, n_components, n_features)\n",
    "\n",
    "        predict_next_point = []\n",
    "        current_path_last_point = []\n",
    "\n",
    "\n",
    "        for seq in X_test:\n",
    "            removed_last_point_seq = seq[5][:-1]\n",
    "\n",
    "            current_path_last_point.append(seq[5][-1]//4)\n",
    "            \n",
    "            next_point = get_next_top3_POI(hmm_model, removed_last_point_seq)\n",
    "\n",
    "            predict_next_point.append(next_point)\n",
    "            \n",
    "        n_value = 3\n",
    "        top_N = top_n_accuracy(current_path_last_point, predict_next_point, n_value)\n",
    "\n",
    "        print(\"Top-N Accuracy:\", top_N)\n",
    "\n",
    "        seasonal_result_df.loc[idx] = [season, k, top_N]\n",
    "        idx += 1\n",
    "\n"
   ]
  },
  {
   "cell_type": "code",
   "execution_count": null,
   "metadata": {},
   "outputs": [],
   "source": [
    "seasonal_result_df"
   ]
  },
  {
   "cell_type": "code",
   "execution_count": null,
   "metadata": {},
   "outputs": [],
   "source": [
    "# seasonal_result_df.to_csv(\"seasonal_top3.csv\", index=False)"
   ]
  }
 ],
 "metadata": {
  "kernelspec": {
   "display_name": "Python 3",
   "language": "python",
   "name": "python3"
  },
  "language_info": {
   "codemirror_mode": {
    "name": "ipython",
    "version": 3
   },
   "file_extension": ".py",
   "mimetype": "text/x-python",
   "name": "python",
   "nbconvert_exporter": "python",
   "pygments_lexer": "ipython3",
   "version": "3.11.6"
  }
 },
 "nbformat": 4,
 "nbformat_minor": 2
}
