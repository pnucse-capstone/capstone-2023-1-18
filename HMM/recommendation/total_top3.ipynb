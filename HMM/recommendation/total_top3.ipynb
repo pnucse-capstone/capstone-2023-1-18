{
 "cells": [
  {
   "cell_type": "code",
   "execution_count": 1,
   "metadata": {},
   "outputs": [],
   "source": [
    "import pandas as pd\n",
    "import numpy as np\n",
    "import pymongo\n",
    "from hmmlearn.hmm import CategoricalHMM\n",
    "\n",
    "from sklearn.model_selection import train_test_split\n"
   ]
  },
  {
   "cell_type": "code",
   "execution_count": 2,
   "metadata": {},
   "outputs": [],
   "source": [
    "import warnings\n",
    "\n",
    "warnings.filterwarnings(action=\"ignore\")"
   ]
  },
  {
   "cell_type": "code",
   "execution_count": 3,
   "metadata": {},
   "outputs": [],
   "source": [
    "# data 기본 경로\n",
    "ABSOLUTE_PATH = \"C:\\\\Users\\\\rudnf\\\\vscode\\\\Graduation\\\\final\\\\data\\\\\"\n",
    "SEASONS = [\"spring\", \"summer\", \"fall\", \"winter\"]\n",
    "KS = [25, 50, 75, 100]\n",
    "MONGO_URI = \"mongodb://localhost:27017/\""
   ]
  },
  {
   "cell_type": "code",
   "execution_count": 4,
   "metadata": {},
   "outputs": [],
   "source": [
    "def season_match(season):\n",
    "    months = []\n",
    "    if season == \"spring\":\n",
    "        months = [\"03\", \"04\", \"05\"]\n",
    "    if season == \"summer\":\n",
    "        months = [\"06\", \"07\", \"08\"]\n",
    "    if season == \"fall\":\n",
    "        months = [\"09\", \"10\", \"11\"]\n",
    "    if season == \"winter\":\n",
    "        months = [\"12\", \"01\", \"02\"]\n",
    "    return months"
   ]
  },
  {
   "cell_type": "code",
   "execution_count": 5,
   "metadata": {},
   "outputs": [],
   "source": [
    "def label_sequence(path, time_period):\n",
    "    l_sequence = []\n",
    "    for idx in range(0, len(path)):\n",
    "        LID = int(path[idx].replace('POI', ''))\n",
    "        T = 0\n",
    "        \n",
    "        if time_period[idx] == 'dawn':\n",
    "            T = 0\n",
    "        elif time_period[idx] == 'morning':\n",
    "            T = 1\n",
    "        if time_period[idx] == 'afternoon':\n",
    "            T = 2\n",
    "        elif time_period[idx] == 'night':\n",
    "            T = 3\n",
    "            \n",
    "        l_sequence.append( LID * 4 + T )\n",
    "    return l_sequence"
   ]
  },
  {
   "cell_type": "code",
   "execution_count": 6,
   "metadata": {},
   "outputs": [],
   "source": [
    "import ast\n",
    "def df_str_to_list(df):\n",
    "    try:\n",
    "        columns = ['trajectory_id', 'POI_sequence', 'time_period_sequence']\n",
    "        for column in columns:\n",
    "            df[column] = df[column].apply(ast.literal_eval)\n",
    "        return df\n",
    "    except (ValueError, SyntaxError):\n",
    "        print(\"Invalid input string format.\")\n",
    "        "
   ]
  },
  {
   "cell_type": "code",
   "execution_count": 7,
   "metadata": {},
   "outputs": [],
   "source": [
    "#****************** initial probability **********************#\n",
    "def calculate_initial_probability(X, n_components, smoothing_factor=1.0):\n",
    "    start_count = np.zeros(n_components)\n",
    "    start_proba = np.zeros(n_components)\n",
    "\n",
    "    # start_point\n",
    "    for value in X[:, 1]:\n",
    "        start_count[int(value.replace(\"POI\", \"\"))] += 1\n",
    "\n",
    "    total = np.sum(start_count)\n",
    "    \n",
    "    ## Laplace 스무딩적용\n",
    "    start_proba = (start_count + smoothing_factor) / (total + n_components)\n",
    "    return start_proba\n"
   ]
  },
  {
   "cell_type": "code",
   "execution_count": 8,
   "metadata": {},
   "outputs": [],
   "source": [
    "# #****************** transition probability **********************#\n",
    "# # transition_matrix : transition 횟수 count 저장, transition_probability : transition 확률 저장\n",
    "def calculate_transition_probability(X, n_components, smoothing_factor=1.0):\n",
    "    \n",
    "    transition_count = np.zeros((n_components, n_components))  \n",
    "    transition_proba = np.zeros((n_components, n_components))\n",
    "    \n",
    "    # transition 횟수 count\n",
    "    # X[:, 2] : 'path'\n",
    "    for trajectory in X[:, 3]:\n",
    "\n",
    "        for i in range(len(trajectory) - 1):\n",
    "            cur_POI_num = int(trajectory[i].replace('POI',''))\n",
    "            next_POI_num = int(trajectory[i+1].replace('POI',''))\n",
    "            \n",
    "            transition_count[cur_POI_num, next_POI_num] += 1\n",
    "            \n",
    "\n",
    "    for i in range(len(transition_count)):\n",
    "        total = np.sum(transition_count[i])\n",
    "        \n",
    "        ## Laplace 스무딩적용\n",
    "        transition_proba[i] = (transition_count[i] + smoothing_factor) / (total + n_components)\n",
    "    return transition_proba\n"
   ]
  },
  {
   "cell_type": "code",
   "execution_count": 9,
   "metadata": {},
   "outputs": [],
   "source": [
    "#****************** emission probability **********************#\n",
    "# 각 POI일때 label sequence가 나올확률\n",
    "def calculate_emission_probability(X, n_components, n_features, smoothing_factor=1.0):\n",
    "        # emission Probability 구하기\n",
    "    emission_count = np.zeros(shape=(n_components, n_features))\n",
    "    emission_proba = np.zeros(shape=(n_components, n_features))\n",
    " \n",
    "    # X[:, [2,4]] : ['POI_sequence','l_sequence']\n",
    "    for p, l_seq in X[:, [3,5]]:\n",
    "        for cur_POI_num, cur_l_seq in zip(p, l_seq):\n",
    "            cur_POI_num = int(cur_POI_num.replace('POI',''))\n",
    "            emission_count[cur_POI_num][cur_l_seq] +=1\n",
    "        \n",
    "\n",
    "    for i in range(len(emission_count)):\n",
    "        total = np.sum(emission_count[i])\n",
    "        \n",
    "         ## Laplace 스무딩적용\n",
    "        emission_proba[i] = (emission_count[i] + smoothing_factor) / (total + n_features)\n",
    "\n",
    "    return emission_proba\n"
   ]
  },
  {
   "cell_type": "code",
   "execution_count": 10,
   "metadata": {},
   "outputs": [],
   "source": [
    "def _get_collection_data(mongo_uri, db_name, collection_name):\n",
    "    client = pymongo.MongoClient(mongo_uri)\n",
    "\n",
    "    db = client[db_name]\n",
    "    collection = db[collection_name]\n",
    "\n",
    "    data = list(collection.find({}, {\"_id\": 0}))\n",
    "\n",
    "    client.close()\n",
    "\n",
    "    return data\n"
   ]
  },
  {
   "cell_type": "code",
   "execution_count": 11,
   "metadata": {},
   "outputs": [],
   "source": [
    "def get_trajectory(k):\n",
    "\n",
    "    db_name = \"total\"\n",
    "\n",
    "    trajectory_name = f\"trajectory_total_cluster_{k}\"\n",
    "    data = _get_collection_data(MONGO_URI, db_name, trajectory_name)\n",
    " \n",
    "    return pd.DataFrame(data)\n",
    "    "
   ]
  },
  {
   "cell_type": "markdown",
   "metadata": {},
   "source": [
    "# Top 3 "
   ]
  },
  {
   "cell_type": "code",
   "execution_count": 12,
   "metadata": {},
   "outputs": [],
   "source": [
    "def get_next_POI_top3(hmm_model, user_trajectory):\n",
    "\n",
    "    X = np.array(user_trajectory)\n",
    "\n",
    "\n",
    "    ### Next POI를 붙여가며 max score를 가지는 POI 찾기\n",
    "    # X_test의 한 row에 대해 0~N_COMPONENTS까지 추가한 새로운 row들\n",
    "    can_sequences = [np.append(X, i) for i in range(hmm_model.n_features)]\n",
    "    \n",
    "    decodes = [hmm_model.decode(seq.reshape(-1,1)) for seq in can_sequences]\n",
    "\n",
    "    sorted_decode = sorted(decodes, key=lambda x:x[0])[::-1]\n",
    "\n",
    "    # 순서대로 1, 2, 3\n",
    "    unique_top_3_indices = []\n",
    "    for log_likelihood, hidden_state_seq in sorted_decode:\n",
    "        recommendation_POI = hidden_state_seq[-1]\n",
    "        if recommendation_POI not in unique_top_3_indices:\n",
    "            unique_top_3_indices.append(recommendation_POI)\n",
    "        \n",
    "        if len(unique_top_3_indices) == 3:\n",
    "            break\n",
    "    return unique_top_3_indices\n"
   ]
  },
  {
   "cell_type": "code",
   "execution_count": 13,
   "metadata": {},
   "outputs": [],
   "source": [
    "def top_n_accuracy(correct, predict, n):\n",
    "    correct_at_n = sum(1 if c in predict[i][:n] else 0 for i, c in enumerate(correct))\n",
    "    top_n_accuracy = correct_at_n / len(correct)\n",
    "    return top_n_accuracy"
   ]
  },
  {
   "cell_type": "code",
   "execution_count": 15,
   "metadata": {},
   "outputs": [
    {
     "name": "stdout",
     "output_type": "stream",
     "text": [
      "K : 25\n"
     ]
    },
    {
     "ename": "KeyboardInterrupt",
     "evalue": "",
     "output_type": "error",
     "traceback": [
      "\u001b[1;31m---------------------------------------------------------------------------\u001b[0m",
      "\u001b[1;31mKeyboardInterrupt\u001b[0m                         Traceback (most recent call last)",
      "\u001b[1;32mc:\\Users\\rudnf\\vscode\\Graduation\\final\\recommendation\\total_top3.ipynb 셀 15\u001b[0m line \u001b[0;36m1\n\u001b[0;32m      <a href='vscode-notebook-cell:/c%3A/Users/rudnf/vscode/Graduation/final/recommendation/total_top3.ipynb#X20sZmlsZQ%3D%3D?line=7'>8</a>\u001b[0m trajectory \u001b[39m=\u001b[39m get_trajectory(k)\n\u001b[0;32m     <a href='vscode-notebook-cell:/c%3A/Users/rudnf/vscode/Graduation/final/recommendation/total_top3.ipynb#X20sZmlsZQ%3D%3D?line=9'>10</a>\u001b[0m trajectory \u001b[39m=\u001b[39m df_str_to_list(trajectory)\n\u001b[1;32m---> <a href='vscode-notebook-cell:/c%3A/Users/rudnf/vscode/Graduation/final/recommendation/total_top3.ipynb#X20sZmlsZQ%3D%3D?line=10'>11</a>\u001b[0m trajectory[\u001b[39m'\u001b[39m\u001b[39ml_sequence\u001b[39m\u001b[39m'\u001b[39m] \u001b[39m=\u001b[39m [np\u001b[39m.\u001b[39;49marray(label_sequence(POI_sequence, time_period_sequence)) \u001b[39mfor\u001b[39;49;00m POI_sequence, time_period_sequence \u001b[39min\u001b[39;49;00m trajectory[[\u001b[39m'\u001b[39;49m\u001b[39mPOI_sequence\u001b[39;49m\u001b[39m'\u001b[39;49m, \u001b[39m'\u001b[39;49m\u001b[39mtime_period_sequence\u001b[39;49m\u001b[39m'\u001b[39;49m]]\u001b[39m.\u001b[39;49mvalues]\n\u001b[0;32m     <a href='vscode-notebook-cell:/c%3A/Users/rudnf/vscode/Graduation/final/recommendation/total_top3.ipynb#X20sZmlsZQ%3D%3D?line=13'>14</a>\u001b[0m select_columns \u001b[39m=\u001b[39m [\u001b[39m'\u001b[39m\u001b[39mtrajectory_id\u001b[39m\u001b[39m'\u001b[39m, \u001b[39m'\u001b[39m\u001b[39mstart_point\u001b[39m\u001b[39m'\u001b[39m, \u001b[39m'\u001b[39m\u001b[39mend_point\u001b[39m\u001b[39m'\u001b[39m, \u001b[39m'\u001b[39m\u001b[39mPOI_sequence\u001b[39m\u001b[39m'\u001b[39m, \u001b[39m'\u001b[39m\u001b[39mtime_period_sequence\u001b[39m\u001b[39m'\u001b[39m, \u001b[39m'\u001b[39m\u001b[39ml_sequence\u001b[39m\u001b[39m'\u001b[39m]\n\u001b[0;32m     <a href='vscode-notebook-cell:/c%3A/Users/rudnf/vscode/Graduation/final/recommendation/total_top3.ipynb#X20sZmlsZQ%3D%3D?line=14'>15</a>\u001b[0m X \u001b[39m=\u001b[39m np\u001b[39m.\u001b[39marray(trajectory[select_columns])\n",
      "\u001b[1;32mc:\\Users\\rudnf\\vscode\\Graduation\\final\\recommendation\\total_top3.ipynb 셀 15\u001b[0m line \u001b[0;36m1\n\u001b[0;32m      <a href='vscode-notebook-cell:/c%3A/Users/rudnf/vscode/Graduation/final/recommendation/total_top3.ipynb#X20sZmlsZQ%3D%3D?line=7'>8</a>\u001b[0m trajectory \u001b[39m=\u001b[39m get_trajectory(k)\n\u001b[0;32m     <a href='vscode-notebook-cell:/c%3A/Users/rudnf/vscode/Graduation/final/recommendation/total_top3.ipynb#X20sZmlsZQ%3D%3D?line=9'>10</a>\u001b[0m trajectory \u001b[39m=\u001b[39m df_str_to_list(trajectory)\n\u001b[1;32m---> <a href='vscode-notebook-cell:/c%3A/Users/rudnf/vscode/Graduation/final/recommendation/total_top3.ipynb#X20sZmlsZQ%3D%3D?line=10'>11</a>\u001b[0m trajectory[\u001b[39m'\u001b[39m\u001b[39ml_sequence\u001b[39m\u001b[39m'\u001b[39m] \u001b[39m=\u001b[39m [np\u001b[39m.\u001b[39marray(label_sequence(POI_sequence, time_period_sequence)) \u001b[39mfor\u001b[39;00m POI_sequence, time_period_sequence \u001b[39min\u001b[39;00m trajectory[[\u001b[39m'\u001b[39m\u001b[39mPOI_sequence\u001b[39m\u001b[39m'\u001b[39m, \u001b[39m'\u001b[39m\u001b[39mtime_period_sequence\u001b[39m\u001b[39m'\u001b[39m]]\u001b[39m.\u001b[39mvalues]\n\u001b[0;32m     <a href='vscode-notebook-cell:/c%3A/Users/rudnf/vscode/Graduation/final/recommendation/total_top3.ipynb#X20sZmlsZQ%3D%3D?line=13'>14</a>\u001b[0m select_columns \u001b[39m=\u001b[39m [\u001b[39m'\u001b[39m\u001b[39mtrajectory_id\u001b[39m\u001b[39m'\u001b[39m, \u001b[39m'\u001b[39m\u001b[39mstart_point\u001b[39m\u001b[39m'\u001b[39m, \u001b[39m'\u001b[39m\u001b[39mend_point\u001b[39m\u001b[39m'\u001b[39m, \u001b[39m'\u001b[39m\u001b[39mPOI_sequence\u001b[39m\u001b[39m'\u001b[39m, \u001b[39m'\u001b[39m\u001b[39mtime_period_sequence\u001b[39m\u001b[39m'\u001b[39m, \u001b[39m'\u001b[39m\u001b[39ml_sequence\u001b[39m\u001b[39m'\u001b[39m]\n\u001b[0;32m     <a href='vscode-notebook-cell:/c%3A/Users/rudnf/vscode/Graduation/final/recommendation/total_top3.ipynb#X20sZmlsZQ%3D%3D?line=14'>15</a>\u001b[0m X \u001b[39m=\u001b[39m np\u001b[39m.\u001b[39marray(trajectory[select_columns])\n",
      "\u001b[1;32mc:\\Users\\rudnf\\vscode\\Graduation\\final\\recommendation\\total_top3.ipynb 셀 15\u001b[0m line \u001b[0;36m3\n\u001b[0;32m      <a href='vscode-notebook-cell:/c%3A/Users/rudnf/vscode/Graduation/final/recommendation/total_top3.ipynb#X20sZmlsZQ%3D%3D?line=0'>1</a>\u001b[0m \u001b[39mdef\u001b[39;00m \u001b[39mlabel_sequence\u001b[39m(path, time_period):\n\u001b[0;32m      <a href='vscode-notebook-cell:/c%3A/Users/rudnf/vscode/Graduation/final/recommendation/total_top3.ipynb#X20sZmlsZQ%3D%3D?line=1'>2</a>\u001b[0m     l_sequence \u001b[39m=\u001b[39m []\n\u001b[1;32m----> <a href='vscode-notebook-cell:/c%3A/Users/rudnf/vscode/Graduation/final/recommendation/total_top3.ipynb#X20sZmlsZQ%3D%3D?line=2'>3</a>\u001b[0m     \u001b[39mfor\u001b[39;00m idx \u001b[39min\u001b[39;00m \u001b[39mrange\u001b[39m(\u001b[39m0\u001b[39m, \u001b[39mlen\u001b[39m(path)):\n\u001b[0;32m      <a href='vscode-notebook-cell:/c%3A/Users/rudnf/vscode/Graduation/final/recommendation/total_top3.ipynb#X20sZmlsZQ%3D%3D?line=3'>4</a>\u001b[0m         LID \u001b[39m=\u001b[39m \u001b[39mint\u001b[39m(path[idx]\u001b[39m.\u001b[39mreplace(\u001b[39m'\u001b[39m\u001b[39mPOI\u001b[39m\u001b[39m'\u001b[39m, \u001b[39m'\u001b[39m\u001b[39m'\u001b[39m))\n\u001b[0;32m      <a href='vscode-notebook-cell:/c%3A/Users/rudnf/vscode/Graduation/final/recommendation/total_top3.ipynb#X20sZmlsZQ%3D%3D?line=4'>5</a>\u001b[0m         T \u001b[39m=\u001b[39m \u001b[39m0\u001b[39m\n",
      "\u001b[1;31mKeyboardInterrupt\u001b[0m: "
     ]
    }
   ],
   "source": [
    "total_result_df = pd.DataFrame(columns=['K', 'Top N accuracy'])\n",
    "\n",
    "idx =0\n",
    "\n",
    "for k in KS:      \n",
    "    print(f\"K : {k}\")\n",
    "\n",
    "    trajectory = get_trajectory(k)\n",
    "\n",
    "    trajectory = df_str_to_list(trajectory)\n",
    "    trajectory['l_sequence'] = [np.array(label_sequence(POI_sequence, time_period_sequence)) for POI_sequence, time_period_sequence in trajectory[['POI_sequence', 'time_period_sequence']].values]\n",
    "\n",
    "\n",
    "    select_columns = ['trajectory_id', 'start_point', 'end_point', 'POI_sequence', 'time_period_sequence', 'l_sequence']\n",
    "    X = np.array(trajectory[select_columns])\n",
    "\n",
    "    X_train, X_test = train_test_split(X, test_size=0.3)\n",
    "\n",
    "    # time_period 수\n",
    "    TIME_PERIOD = 4\n",
    "    # cluster 수 : Hidden State수\n",
    "    n_components = k\n",
    "    n_features = n_components * TIME_PERIOD\n",
    "\n",
    "\n",
    "    # 모델 불러오기\n",
    "    hmm_model = CategoricalHMM(n_components=n_components, n_features=n_features)    \n",
    "\n",
    "    hmm_model.startprob_ = calculate_initial_probability(X_train, n_components)\n",
    "    hmm_model.transmat_ = calculate_transition_probability(X_train, n_components)\n",
    "    hmm_model.emissionprob_ = calculate_emission_probability(X_train, n_components, n_features)\n",
    "\n",
    "    predict_next_point = []\n",
    "    current_path_last_point = []\n",
    "\n",
    "\n",
    "    for seq in X_test:\n",
    "        removed_last_point_seq = seq[5][:-1]\n",
    "\n",
    "        current_path_last_point.append(seq[5][-1]//4)\n",
    "        \n",
    "        next_point = get_next_POI_top3(hmm_model, removed_last_point_seq)\n",
    "\n",
    "        predict_next_point.append(next_point)\n",
    "        \n",
    "    n_value = 3\n",
    "    top_N = top_n_accuracy(current_path_last_point, predict_next_point, n_value)\n",
    "\n",
    "    print(\"Top-N Accuracy:\", top_N)\n",
    "\n",
    "    total_result_df.loc[idx] = [k, top_N]\n",
    "    idx += 1\n",
    "\n"
   ]
  },
  {
   "cell_type": "code",
   "execution_count": null,
   "metadata": {},
   "outputs": [
    {
     "data": {
      "text/html": [
       "<div>\n",
       "<style scoped>\n",
       "    .dataframe tbody tr th:only-of-type {\n",
       "        vertical-align: middle;\n",
       "    }\n",
       "\n",
       "    .dataframe tbody tr th {\n",
       "        vertical-align: top;\n",
       "    }\n",
       "\n",
       "    .dataframe thead th {\n",
       "        text-align: right;\n",
       "    }\n",
       "</style>\n",
       "<table border=\"1\" class=\"dataframe\">\n",
       "  <thead>\n",
       "    <tr style=\"text-align: right;\">\n",
       "      <th></th>\n",
       "      <th>K</th>\n",
       "      <th>Top N accuracy</th>\n",
       "      <th>Precision</th>\n",
       "      <th>Recall</th>\n",
       "    </tr>\n",
       "  </thead>\n",
       "  <tbody>\n",
       "    <tr>\n",
       "      <th>0</th>\n",
       "      <td>25.0</td>\n",
       "      <td>0.765996</td>\n",
       "      <td>0.255332</td>\n",
       "      <td>0.765996</td>\n",
       "    </tr>\n",
       "    <tr>\n",
       "      <th>1</th>\n",
       "      <td>50.0</td>\n",
       "      <td>0.740501</td>\n",
       "      <td>0.246834</td>\n",
       "      <td>0.740501</td>\n",
       "    </tr>\n",
       "    <tr>\n",
       "      <th>2</th>\n",
       "      <td>75.0</td>\n",
       "      <td>0.757363</td>\n",
       "      <td>0.252454</td>\n",
       "      <td>0.757363</td>\n",
       "    </tr>\n",
       "    <tr>\n",
       "      <th>3</th>\n",
       "      <td>100.0</td>\n",
       "      <td>0.724608</td>\n",
       "      <td>0.241536</td>\n",
       "      <td>0.724608</td>\n",
       "    </tr>\n",
       "  </tbody>\n",
       "</table>\n",
       "</div>"
      ],
      "text/plain": [
       "       K  Top N accuracy  Precision    Recall\n",
       "0   25.0        0.765996   0.255332  0.765996\n",
       "1   50.0        0.740501   0.246834  0.740501\n",
       "2   75.0        0.757363   0.252454  0.757363\n",
       "3  100.0        0.724608   0.241536  0.724608"
      ]
     },
     "execution_count": 51,
     "metadata": {},
     "output_type": "execute_result"
    }
   ],
   "source": [
    "total_result_df"
   ]
  },
  {
   "cell_type": "code",
   "execution_count": null,
   "metadata": {},
   "outputs": [],
   "source": [
    "# total_result_df.to_csv(\"total_top3.csv\", index=False)"
   ]
  }
 ],
 "metadata": {
  "kernelspec": {
   "display_name": "Python 3",
   "language": "python",
   "name": "python3"
  },
  "language_info": {
   "codemirror_mode": {
    "name": "ipython",
    "version": 3
   },
   "file_extension": ".py",
   "mimetype": "text/x-python",
   "name": "python",
   "nbconvert_exporter": "python",
   "pygments_lexer": "ipython3",
   "version": "3.11.6"
  }
 },
 "nbformat": 4,
 "nbformat_minor": 2
}
