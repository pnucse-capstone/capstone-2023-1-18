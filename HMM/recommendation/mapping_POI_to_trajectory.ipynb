{
 "cells": [
  {
   "cell_type": "code",
   "execution_count": 2,
   "metadata": {},
   "outputs": [],
   "source": [
    "import pandas as pd\n",
    "import numpy as np\n",
    "import datetime"
   ]
  },
  {
   "cell_type": "code",
   "execution_count": 3,
   "metadata": {},
   "outputs": [],
   "source": [
    "# data 기본 경로\n",
    "ABSOLUTE_PATH = \"C:\\\\Users\\\\rudnf\\\\vscode\\\\Graduation\\\\final\\\\data\\\\\"\n",
    "MONTHS = [\"01\", \"02\", \"03\", \"04\", \"05\", \"06\", \"07\", \"08\", \"09\", \"10\", \"11\", \"12\"]\n",
    "SEASONS = [\"spring\", \"summer\", \"fall\", \"winter\"]\n",
    "KS = [25, 50, 75, 100]"
   ]
  },
  {
   "cell_type": "code",
   "execution_count": 4,
   "metadata": {},
   "outputs": [],
   "source": [
    "def season_match(season):\n",
    "    months = []\n",
    "    if season == \"spring\":\n",
    "        months = [\"03\", \"04\", \"05\"]\n",
    "    if season == \"summer\":\n",
    "        months = [\"06\", \"07\", \"08\"]\n",
    "    if season == \"fall\":\n",
    "        months = [\"09\", \"10\", \"11\"]\n",
    "    if season == \"winter\":\n",
    "        months = [\"12\", \"01\", \"02\"]\n",
    "    return months"
   ]
  },
  {
   "cell_type": "code",
   "execution_count": 5,
   "metadata": {},
   "outputs": [],
   "source": [
    "def load_POI_cluster_data(path):\n",
    "    locations = pd.read_csv(path)\n",
    "        \n",
    "    locations = locations[[\"longitude\", \"latitude\"]]\n",
    "    locations.index = [f'POI{i}' for i in range(len(locations))]\n",
    "    \n",
    "    return locations"
   ]
  },
  {
   "cell_type": "code",
   "execution_count": 6,
   "metadata": {},
   "outputs": [],
   "source": [
    "def load_GPS_data(path):\n",
    "    df = pd.read_csv(path)\n",
    "    \n",
    "    # csv파일로 불러온 시간(Type : str)을 datetime으로 변경\n",
    "    # ms단위는 버림\n",
    "    df['collection_dt'] = pd.to_datetime(df['collection_dt'])\n",
    "    df = df.sort_values(by='collection_dt', ascending=True).reset_index(drop=True)\n",
    "    \n",
    "    return df"
   ]
  },
  {
   "cell_type": "markdown",
   "metadata": {},
   "source": [
    "## GPS 데이터로 Trajectory 만들기\n",
    "    trajectory : (trajectory_id, start_point, end_point, POI_sequence, time_period_sequence)"
   ]
  },
  {
   "cell_type": "code",
   "execution_count": 7,
   "metadata": {},
   "outputs": [],
   "source": [
    "def _map_group_time_period(rows):\n",
    "    time_values = rows['collection_dt'].dt.time.values\n",
    "    time_period_values = {\n",
    "        'dawn' : datetime.time(6, 0, 0),\n",
    "        'morning' : datetime.time(12, 0, 0),\n",
    "        'afternoon' : datetime.time(18, 0, 0),\n",
    "        'night' : datetime.time(0, 0, 0),\n",
    "    }\n",
    "    \n",
    "    conditions = [\n",
    "        time_values < time_period_values['dawn'],\n",
    "        (time_values >= time_period_values['dawn']) & (time_values < time_period_values['morning']),\n",
    "        (time_values >= time_period_values['morning']) & (time_values < time_period_values['afternoon']),\n",
    "        (time_values >= time_period_values['afternoon']) | (time_values == time_period_values['night'])\n",
    "    ]\n",
    "\n",
    "    rows['time_period'] = np.select(conditions, time_period_values.keys())\n",
    "        \n",
    "    return rows"
   ]
  },
  {
   "cell_type": "code",
   "execution_count": 8,
   "metadata": {},
   "outputs": [],
   "source": [
    "def _haversine_distance(GPS_lon, GPS_lat, locations_lon, locations_lat):\n",
    "    R = 6371  # 지구의 반지름 (단위: km)\n",
    "    \n",
    "    # 모든 rows와 POI의 위도 경도를 벡터화\n",
    "    GPS_lon_rad = np.radians(GPS_lon)\n",
    "    GPS_lat_rad = np.radians(GPS_lat)\n",
    "    POI_lon_rad = np.radians(locations_lon)\n",
    "    POI_lat_rad = np.radians(locations_lat)\n",
    "    \n",
    "    \n",
    "    diff_lon = POI_lon_rad - GPS_lon_rad\n",
    "    diff_lat = POI_lat_rad - GPS_lat_rad\n",
    "\n",
    "    a = np.sin(diff_lon/2)**2 + np.cos(GPS_lat_rad) * np.cos(POI_lat_rad) * np.sin(diff_lat/2)**2\n",
    "    c = 2 * np.arctan2(np.sqrt(a), np.sqrt(1-a))\n",
    "    \n",
    "    distance = R * c\n",
    "\n",
    "    return distance"
   ]
  },
  {
   "cell_type": "code",
   "execution_count": 9,
   "metadata": {},
   "outputs": [],
   "source": [
    "def _calculate_POI_sequence(rows, locations):\n",
    "    POI_sequence = []\n",
    "    \n",
    "    GPS_lon = rows['longitude'].values\n",
    "    GPS_lat = rows['latitude'].values\n",
    "    \n",
    "    # np.newaxis : 배열에 차원을 추가\n",
    "    distances = _haversine_distance(GPS_lon[:, np.newaxis], GPS_lat[:, np.newaxis], locations['longitude'].values, locations['latitude'].values)\n",
    "\n",
    "    close_indices = np.where(distances <= 1)\n",
    "    unique_rows, unique_indices = np.unique(close_indices[0], return_index=True)\n",
    "    unique_locations = close_indices[1][unique_indices]\n",
    "\n",
    "    for i in range(len(unique_rows)):\n",
    "        POI_sequence.append(locations.index[unique_locations[i]])\n",
    "\n",
    "    return POI_sequence"
   ]
  },
  {
   "cell_type": "code",
   "execution_count": 10,
   "metadata": {},
   "outputs": [],
   "source": [
    "# v.0.5.0 : _remove_duplicated_path에서 시간대가 걸쳐있는 path는 중복된 POI를 제거 x\n",
    "def _remove_duplicated_rows(path, rows):\n",
    "    removed_POI_sequence = []\n",
    "    removed_time_period_sequence = []\n",
    "\n",
    "    prev_location = path[0]\n",
    "    start_idx = 0\n",
    "    end_idx = len(path)-1\n",
    "\n",
    "    for idx, location in enumerate(path):\n",
    "\n",
    "        if (location != prev_location) or (idx == len(path)-1) :\n",
    "            end_idx = idx\n",
    "\n",
    "            same_POI_rows = rows.iloc[start_idx:end_idx]\n",
    "            time_period_unique = same_POI_rows['time_period'].unique()\n",
    "            \n",
    "            if len(time_period_unique) != 1:\n",
    "                for each_time_period in time_period_unique:\n",
    "                    removed_POI_sequence.append(prev_location)\n",
    "                    removed_time_period_sequence.append(each_time_period)\n",
    "            else:\n",
    "                removed_POI_sequence.append(prev_location)\n",
    "                removed_time_period_sequence.append(time_period_unique.item())\n",
    "            \n",
    "            prev_location = location\n",
    "            start_idx = idx       \n",
    "\n",
    "    return removed_POI_sequence, removed_time_period_sequence"
   ]
  },
  {
   "cell_type": "code",
   "execution_count": 11,
   "metadata": {},
   "outputs": [],
   "source": [
    "def make_trajectory(df, locations):\n",
    "        \n",
    "    # DataFrame을 (년, 월, 일, oid)로 grouping\n",
    "    grouped = df.groupby([df['collection_dt'].dt.year, \n",
    "                            df['collection_dt'].dt.month, \n",
    "                            df['collection_dt'].dt.day, \n",
    "                            df['oid']])\n",
    "\n",
    "    trajectories = pd.DataFrame(columns=['trajectory_id', 'start_point','end_point', 'POI_sequence', 'time_period_sequence'])\n",
    "    concat_row = pd.DataFrame(columns=['trajectory_id', 'start_point','end_point', 'POI_sequence', 'time_period_sequence'])\n",
    "\n",
    "    for group_key, rows in grouped:\n",
    "        \n",
    "        # Grouping한 GPS data가 100개 이하일 경우 의미있는 경로가 나오지 않을 것이라 판단하여 포함 x\n",
    "        if (len(rows) <= 100):\n",
    "            continue\n",
    "        \n",
    "        # Grouping 한 rows에서 collection_dt의 값이 동일한 data가 존재\n",
    "        rows.drop_duplicates(subset=['collection_dt'], inplace=True)\n",
    "\n",
    "        # Grouping한 rows의 time_period를 mapping\n",
    "        rows = _map_group_time_period(rows)\n",
    "\n",
    "        path = _calculate_POI_sequence(rows, locations)\n",
    "        \n",
    "        if len(path) == 0:\n",
    "            continue\n",
    "        \n",
    "        removed_POI_sequence, removed_time_period_sequence = _remove_duplicated_rows(path, rows)\n",
    "  \n",
    "        # 최종길이가 5 미만이라면 drop\n",
    "        if len(removed_POI_sequence) <= 4:\n",
    "            continue\n",
    "\n",
    "        start_point, end_point = removed_POI_sequence[0], removed_POI_sequence[-1]\n",
    "        \n",
    "        column_list = ['trajectory_id', 'start_point', 'end_point', 'POI_sequence', 'time_period_sequence']\n",
    "        concat_row.loc[0, column_list] = [ group_key, start_point, end_point, removed_POI_sequence, removed_time_period_sequence ]\n",
    "        \n",
    "        trajectories = pd.concat([trajectories, concat_row], ignore_index=True)\n",
    "       \n",
    "    return trajectories"
   ]
  },
  {
   "cell_type": "markdown",
   "metadata": {},
   "source": [
    "## 계절별 Trajectory 생성"
   ]
  },
  {
   "cell_type": "code",
   "execution_count": 13,
   "metadata": {},
   "outputs": [
    {
     "name": "stdout",
     "output_type": "stream",
     "text": [
      "month : 03, K : 25\n",
      "month : 03, K : 50\n",
      "month : 03, K : 75\n",
      "month : 03, K : 100\n",
      "month : 04, K : 25\n",
      "month : 04, K : 50\n",
      "month : 04, K : 75\n",
      "month : 04, K : 100\n",
      "month : 05, K : 25\n",
      "month : 05, K : 50\n",
      "month : 05, K : 75\n",
      "month : 05, K : 100\n",
      "month : 06, K : 25\n",
      "month : 06, K : 50\n",
      "month : 06, K : 75\n",
      "month : 06, K : 100\n"
     ]
    }
   ],
   "source": [
    "for season in ['spring','summer', \"fall\", \"winter\"]:\n",
    "    months = season_match(season)\n",
    "    for month in months:    \n",
    "        for k in [25, 50, 75, 100]:\n",
    "            print(f\"month : {month}, K : {k}\")\n",
    "            df = load_GPS_data(ABSOLUTE_PATH + f\"GPS_data\\\\month_{month}.csv\")\n",
    "            locations = load_POI_cluster_data(ABSOLUTE_PATH + f\"stay_point\\\\cluster_data\\\\{season}\\\\{season}_cluster_{k}.csv\")\n",
    "        \n",
    "            trajectories = make_trajectory(df, locations)\n",
    "        \n",
    "            trajectories.to_csv(ABSOLUTE_PATH + f\"trajectory\\\\{season}\\\\trajectory_{month}_cluster_{k}.csv\", index=False)"
   ]
  },
  {
   "cell_type": "markdown",
   "metadata": {},
   "source": [
    "## 전체 Trajectory 생성"
   ]
  },
  {
   "cell_type": "code",
   "execution_count": 12,
   "metadata": {},
   "outputs": [
    {
     "name": "stdout",
     "output_type": "stream",
     "text": [
      "K : 25\n",
      "K : 50\n",
      "K : 75\n",
      "K : 100\n"
     ]
    }
   ],
   "source": [
    "df_list = []\n",
    "\n",
    "for month in MONTHS:\n",
    "    df_list.append(load_GPS_data(ABSOLUTE_PATH + f\"GPS_data\\\\month_{month}.csv\"))\n",
    "df = pd.concat(df_list)\n",
    "\n",
    "for k in [25, 50, 75, 100]:\n",
    "    print(f\"K : {k}\")\n",
    "    locations = load_POI_cluster_data(ABSOLUTE_PATH + f\"stay_point\\\\cluster_data\\\\total\\\\total_cluster_{k}.csv\")\n",
    "\n",
    "    trajectories = make_trajectory(df, locations)\n",
    "\n",
    "    trajectories.to_csv(ABSOLUTE_PATH + f\"trajectory\\\\total\\\\trajectory_total_cluster_{k}.csv\", index=False)"
   ]
  }
 ],
 "metadata": {
  "kernelspec": {
   "display_name": "Python 3",
   "language": "python",
   "name": "python3"
  },
  "language_info": {
   "codemirror_mode": {
    "name": "ipython",
    "version": 3
   },
   "file_extension": ".py",
   "mimetype": "text/x-python",
   "name": "python",
   "nbconvert_exporter": "python",
   "pygments_lexer": "ipython3",
   "version": "3.11.6"
  },
  "orig_nbformat": 4
 },
 "nbformat": 4,
 "nbformat_minor": 2
}
