{
 "cells": [
  {
   "cell_type": "code",
   "execution_count": 2,
   "metadata": {},
   "outputs": [],
   "source": [
    "import pandas as pd\n",
    "import pymongo"
   ]
  },
  {
   "cell_type": "code",
   "execution_count": 3,
   "metadata": {},
   "outputs": [],
   "source": [
    "ABSOLUTE_PATH = \"C:\\\\Users\\\\rudnf\\\\vscode\\\\Graduation\\\\final\\\\data\\\\\"\n",
    "SEASONS = [\"spring\", \"summer\", \"fall\", \"winter\"]\n",
    "KS = [25, 50, 75, 100]\n",
    "\n",
    "MONGO_URI = \"mongodb://localhost:27017/\""
   ]
  },
  {
   "cell_type": "code",
   "execution_count": 4,
   "metadata": {},
   "outputs": [],
   "source": [
    "def season_match(season):\n",
    "    months = []\n",
    "    if season == \"spring\":\n",
    "        months = [\"03\", \"04\", \"05\"]\n",
    "    if season == \"summer\":\n",
    "        months = [\"06\", \"07\", \"08\"]\n",
    "    if season == \"fall\":\n",
    "        months = [\"09\", \"10\", \"11\"]\n",
    "    if season == \"winter\":\n",
    "        months = [\"12\", \"01\", \"02\"]\n",
    "    return months"
   ]
  },
  {
   "cell_type": "code",
   "execution_count": 5,
   "metadata": {},
   "outputs": [],
   "source": [
    "def connect_to_mongodb(mongo_uri, db_name, collection_name):\n",
    "    client = pymongo.MongoClient(mongo_uri)\n",
    "    db = client[db_name]\n",
    "    collection = db[collection_name]\n",
    "    return collection\n"
   ]
  },
  {
   "cell_type": "code",
   "execution_count": 6,
   "metadata": {},
   "outputs": [],
   "source": [
    "def insert_to_collection(collection, dataframe):\n",
    "    records = dataframe.to_dict(orient='records')\n",
    "    # collection의 저장되어있던 데이터 삭제\n",
    "    collection.delete_many({})\n",
    "    collection.insert_many(records)"
   ]
  },
  {
   "cell_type": "markdown",
   "metadata": {},
   "source": [
    "##  계절별 Trajectory, POI 저장"
   ]
  },
  {
   "cell_type": "code",
   "execution_count": 7,
   "metadata": {},
   "outputs": [],
   "source": [
    "for season in SEASONS:\n",
    "    months = season_match(season)\n",
    "    for month in months:\n",
    "        for k in KS:\n",
    "            db_name = f\"{season}\"\n",
    "            collection_cluster_name = f\"{season}_cluster_{k}\"\n",
    "            collection_trajectory_name = f\"trajectory_{month}_cluster_{k}\"\n",
    "\n",
    "            cluster_csv_file_path = ABSOLUTE_PATH + f\"stay_point\\\\cluster_data\\\\{season}\\\\{season}_cluster_{k}.csv\"\n",
    "            trajectory_csv_file_path = ABSOLUTE_PATH + f\"trajectory\\\\{season}\\\\trajectory_{month}_cluster_{k}.csv\"\n",
    "            \n",
    "            collection_cluster = connect_to_mongodb(MONGO_URI, db_name, collection_cluster_name)\n",
    "            collection_trajectory = connect_to_mongodb(MONGO_URI, db_name, collection_trajectory_name)\n",
    "            \n",
    "            cluster_df = pd.read_csv(cluster_csv_file_path)\n",
    "            trajectory_df = pd.read_csv(trajectory_csv_file_path)\n",
    "\n",
    "            insert_to_collection(collection_cluster, cluster_df)\n",
    "            insert_to_collection(collection_trajectory, trajectory_df)\n",
    "            \n"
   ]
  },
  {
   "cell_type": "markdown",
   "metadata": {},
   "source": [
    "## 전체 Trajectory, POI 저장"
   ]
  },
  {
   "cell_type": "code",
   "execution_count": 8,
   "metadata": {},
   "outputs": [],
   "source": [
    "for k in KS:\n",
    "    db_name = \"total\"\n",
    "    collection_cluster_name = f\"total_cluster_{k}\"\n",
    "    collection_trajectory_name = f\"trajectory_total_cluster_{k}\"\n",
    "\n",
    "    cluster_csv_file_path = ABSOLUTE_PATH + f\"stay_point\\\\cluster_data\\\\total\\\\total_cluster_{k}.csv\"\n",
    "    trajectory_csv_file_path = ABSOLUTE_PATH + f\"trajectory\\\\total\\\\trajectory_total_cluster_{k}.csv\"\n",
    "    \n",
    "    collection_cluster = connect_to_mongodb(MONGO_URI, db_name, collection_cluster_name)\n",
    "    collection_trajectory = connect_to_mongodb(MONGO_URI, db_name, collection_trajectory_name)\n",
    "    \n",
    "    cluster_df = pd.read_csv(cluster_csv_file_path)\n",
    "    trajectory_df = pd.read_csv(trajectory_csv_file_path)\n",
    "\n",
    "    insert_to_collection(collection_cluster, cluster_df)\n",
    "    insert_to_collection(collection_trajectory, trajectory_df)\n",
    "    \n"
   ]
  }
 ],
 "metadata": {
  "kernelspec": {
   "display_name": "Python 3",
   "language": "python",
   "name": "python3"
  },
  "language_info": {
   "codemirror_mode": {
    "name": "ipython",
    "version": 3
   },
   "file_extension": ".py",
   "mimetype": "text/x-python",
   "name": "python",
   "nbconvert_exporter": "python",
   "pygments_lexer": "ipython3",
   "version": "3.11.6"
  },
  "orig_nbformat": 4
 },
 "nbformat": 4,
 "nbformat_minor": 2
}
