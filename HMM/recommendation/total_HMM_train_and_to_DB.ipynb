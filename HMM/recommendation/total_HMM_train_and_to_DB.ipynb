{
 "cells": [
  {
   "cell_type": "code",
   "execution_count": 13,
   "metadata": {},
   "outputs": [],
   "source": [
    "import pandas as pd\n",
    "import numpy as np\n",
    "from hmmlearn.hmm import CategoricalHMM\n",
    "\n",
    "from sklearn.model_selection import train_test_split\n",
    "\n",
    "import pymongo"
   ]
  },
  {
   "cell_type": "code",
   "execution_count": 14,
   "metadata": {},
   "outputs": [],
   "source": [
    "# data 기본 경로\n",
    "ABSOLUTE_PATH = \"C:\\\\Users\\\\rudnf\\\\vscode\\\\Graduation\\\\Data_Preprocessing\\\\data\\\\\"\n",
    "SEASONS = ['spring', 'summer', 'fall', 'winter']\n",
    "MONTHS = [\"01\", \"02\", \"03\", \"04\", \"05\", \"06\", \"07\", \"08\", \"09\", \"10\", \"12\", \"12\"]\n",
    "\n",
    "KS = [25, 50, 75, 100]\n",
    "\n",
    "MONGO_URI = \"mongodb://localhost:27017/\"\n"
   ]
  },
  {
   "cell_type": "code",
   "execution_count": 15,
   "metadata": {},
   "outputs": [],
   "source": [
    "def season_match(season):\n",
    "    months = []\n",
    "    if season == \"spring\":\n",
    "        months = [\"03\", \"04\", \"05\"]\n",
    "    if season == \"summer\":\n",
    "        months = [\"06\", \"07\", \"08\"]\n",
    "    if season == \"fall\":\n",
    "        months = [\"09\", \"10\", \"11\"]\n",
    "    if season == \"winter\":\n",
    "        months = [\"12\", \"01\", \"02\"]\n",
    "    return months"
   ]
  },
  {
   "cell_type": "code",
   "execution_count": 16,
   "metadata": {},
   "outputs": [],
   "source": [
    "def label_sequence(POI_sequence, time_period_sequence):\n",
    "    l_sequence = []\n",
    "    for idx in range(0, len(POI_sequence)):\n",
    "        LID = int(POI_sequence[idx].replace('POI', ''))\n",
    "        T = 0\n",
    "        \n",
    "        if time_period_sequence[idx] == 'dawn':\n",
    "            T = 0\n",
    "        elif time_period_sequence[idx] == 'morning':\n",
    "            T = 1\n",
    "        if time_period_sequence[idx] == 'afternoon':\n",
    "            T = 2\n",
    "        elif time_period_sequence[idx] == 'night':\n",
    "            T = 3\n",
    "            \n",
    "        l_sequence.append( LID * 4 + T )\n",
    "    return l_sequence"
   ]
  },
  {
   "cell_type": "code",
   "execution_count": 17,
   "metadata": {},
   "outputs": [],
   "source": [
    "import ast\n",
    "def df_str_to_list(df):\n",
    "    try:\n",
    "        columns = ['trajectory_id', 'POI_sequence', 'time_period_sequence']\n",
    "        for column in columns:\n",
    "            df[column] = df[column].apply(ast.literal_eval)\n",
    "        return df\n",
    "    except (ValueError, SyntaxError):\n",
    "        print(\"Invalid input string format.\")\n",
    "        "
   ]
  },
  {
   "cell_type": "code",
   "execution_count": 18,
   "metadata": {},
   "outputs": [],
   "source": [
    "def calculate_initial_probability(X, n_components, smoothing_factor=1.0):\n",
    "    start_count = np.zeros(n_components)\n",
    "    start_proba = np.zeros(n_components)\n",
    "\n",
    "    # start_point\n",
    "    for value in X[:, 1]:\n",
    "        start_count[int(value.replace(\"POI\", \"\"))] += 1\n",
    "\n",
    "    total = np.sum(start_count)\n",
    "    \n",
    "    # Laplace Smoothing\n",
    "    start_proba = (start_count + smoothing_factor) / (total + n_components)\n",
    "    return start_proba\n"
   ]
  },
  {
   "cell_type": "code",
   "execution_count": 19,
   "metadata": {},
   "outputs": [],
   "source": [
    "def calculate_transition_probability(X, n_components, smoothing_factor=1.0):\n",
    "    transition_count = np.zeros((n_components, n_components))  \n",
    "    transition_proba = np.zeros((n_components, n_components))\n",
    "    \n",
    "    # transition 횟수 count\n",
    "    # X[:, 3] : 'POI_sequence'\n",
    "    for trajectory in X[:, 3]:\n",
    "\n",
    "        for i in range(len(trajectory) - 1):\n",
    "            cur_POI_num = int(trajectory[i].replace('POI',''))\n",
    "            next_POI_num = int(trajectory[i+1].replace('POI',''))\n",
    "            \n",
    "            transition_count[cur_POI_num, next_POI_num] += 1\n",
    "            \n",
    "\n",
    "    for i in range(len(transition_count)):\n",
    "        total = np.sum(transition_count[i])\n",
    "        \n",
    "        # Laplace Smoothing\n",
    "        transition_proba[i] = (transition_count[i] + smoothing_factor) / (total + n_components)\n",
    "    return transition_proba\n"
   ]
  },
  {
   "cell_type": "code",
   "execution_count": 20,
   "metadata": {},
   "outputs": [],
   "source": [
    "def calculate_emission_probability(X, n_components, n_features, smoothing_factor=1.0):\n",
    "    emission_count = np.zeros(shape=(n_components, n_features))\n",
    "    emission_proba = np.zeros(shape=(n_components, n_features))\n",
    " \n",
    "    # X[:, [3,5]] : ['POI_sequence','l_sequence']\n",
    "    for p, l_seq in X[:, [3,5]]:\n",
    "        for cur_POI_num, cur_l_seq in zip(p, l_seq):\n",
    "            cur_POI_num = int(cur_POI_num.replace('POI',''))\n",
    "            emission_count[cur_POI_num][cur_l_seq] +=1\n",
    "        \n",
    "\n",
    "    for i in range(len(emission_count)):\n",
    "        total = np.sum(emission_count[i])\n",
    "        \n",
    "        # Laplace Smoothing\n",
    "        emission_proba[i] = (emission_count[i] + smoothing_factor) / (total + n_features)\n",
    "\n",
    "    return emission_proba\n"
   ]
  },
  {
   "cell_type": "code",
   "execution_count": 21,
   "metadata": {},
   "outputs": [],
   "source": [
    "def _get_collection_data(mongo_uri, db_name, collection_name):\n",
    "    client = pymongo.MongoClient(mongo_uri)\n",
    "\n",
    "    db = client[db_name]\n",
    "    collection = db[collection_name]\n",
    "\n",
    "    data = list(collection.find({}, {\"_id\": 0}))\n",
    "\n",
    "    client.close()\n",
    "\n",
    "    return data\n"
   ]
  },
  {
   "cell_type": "code",
   "execution_count": 22,
   "metadata": {},
   "outputs": [],
   "source": [
    "def get_trajectory(k):\n",
    "    db_name = \"total\"\n",
    "\n",
    "    trajectory_name = f\"trajectory_total_cluster_{k}\"\n",
    "    data = _get_collection_data(MONGO_URI, db_name, trajectory_name)\n",
    " \n",
    "    return pd.DataFrame(data)\n",
    "    "
   ]
  },
  {
   "cell_type": "code",
   "execution_count": 23,
   "metadata": {},
   "outputs": [],
   "source": [
    "def model_to_DB(hmm_model, k):\n",
    "    db_name = \"total_model\" \n",
    "    collection_name = \"hmm_model\"\n",
    "\n",
    "    # MongoDB에 연결\n",
    "    client = pymongo.MongoClient(MONGO_URI)\n",
    "    db = client[db_name]\n",
    "    collection = db[collection_name]\n",
    "\n",
    "    model_params = {\n",
    "        \"startprob\": hmm_model.startprob_.tolist(),\n",
    "        \"transmat\": hmm_model.transmat_.tolist(),\n",
    "        \"emissionprob\": hmm_model.emissionprob_.tolist(),\n",
    "    }\n",
    "\n",
    "    # MongoDB에 모델 저장\n",
    "    collection.insert_one({\"model_name\": f\"total_cluster_{k}_model\", \"model_params\": model_params})\n",
    "\n",
    "    # 연결 종료\n",
    "    client.close()"
   ]
  },
  {
   "cell_type": "code",
   "execution_count": 26,
   "metadata": {},
   "outputs": [
    {
     "name": "stdout",
     "output_type": "stream",
     "text": [
      "K : 25\n",
      "K : 50\n",
      "K : 75\n",
      "K : 100\n"
     ]
    }
   ],
   "source": [
    "for k in KS:\n",
    "    print(f\"K : {k}\")\n",
    "    # time_period 수\n",
    "    TIME_PERIOD = 4\n",
    "    # cluster 수 : Hidden State수\n",
    "    n_components = k\n",
    "\n",
    "    n_features = n_components * TIME_PERIOD\n",
    "\n",
    "    trajectories = get_trajectory(k)\n",
    "    trajectories = df_str_to_list(trajectories)\n",
    "\n",
    "    trajectories['l_sequence'] = [np.array(label_sequence(path, time_period)) for path, time_period in trajectories[['POI_sequence', 'time_period_sequence']].values]\n",
    "\n",
    "    select_columns = ['trajectory_id', 'start_point', 'end_point', 'POI_sequence', 'time_period_sequence', 'l_sequence']\n",
    "    X = np.array(trajectories[select_columns])\n",
    "\n",
    "    hmm_model = CategoricalHMM(n_components=n_components, n_features=n_features)\n",
    "\n",
    "    hmm_model.startprob_ = calculate_initial_probability(X, n_components)\n",
    "    hmm_model.transmat_ = calculate_transition_probability(X, n_components)\n",
    "    hmm_model.emissionprob_ = calculate_emission_probability(X, n_components, n_features)\n",
    "    \n",
    "    model_to_DB(hmm_model, k)\n"
   ]
  },
  {
   "cell_type": "code",
   "execution_count": null,
   "metadata": {},
   "outputs": [],
   "source": []
  }
 ],
 "metadata": {
  "kernelspec": {
   "display_name": "Python 3",
   "language": "python",
   "name": "python3"
  },
  "language_info": {
   "codemirror_mode": {
    "name": "ipython",
    "version": 3
   },
   "file_extension": ".py",
   "mimetype": "text/x-python",
   "name": "python",
   "nbconvert_exporter": "python",
   "pygments_lexer": "ipython3",
   "version": "3.11.6"
  },
  "orig_nbformat": 4
 },
 "nbformat": 4,
 "nbformat_minor": 2
}
