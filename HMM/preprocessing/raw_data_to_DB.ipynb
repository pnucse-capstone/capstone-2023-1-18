{
 "cells": [
  {
   "cell_type": "code",
   "execution_count": 14,
   "metadata": {},
   "outputs": [],
   "source": [
    "import pandas as pd\n",
    "import pymongo"
   ]
  },
  {
   "cell_type": "code",
   "execution_count": 15,
   "metadata": {},
   "outputs": [],
   "source": [
    "ABSOLUTE_PATH = \"C:\\\\Users\\\\rudnf\\\\vscode\\\\Graduation\\\\final\\\\data\\\\\"\n",
    "MONTHS = [\"01\", \"02\", \"03\", \"04\", \"05\", \"06\", \"07\", \"08\", \"09\", \"10\", \"11\", \"12\"]\n",
    "MONGO_URI = \"mongodb://localhost:27017/\""
   ]
  },
  {
   "cell_type": "code",
   "execution_count": 16,
   "metadata": {},
   "outputs": [],
   "source": [
    "def connect_to_mongodb(mongo_uri, db_name, collection_name):\n",
    "    client = pymongo.MongoClient(mongo_uri)\n",
    "    db = client[db_name]\n",
    "    collection = db[collection_name]\n",
    "    return collection\n"
   ]
  },
  {
   "cell_type": "code",
   "execution_count": 17,
   "metadata": {},
   "outputs": [],
   "source": [
    "def insert_to_collection(collection, dataframe):\n",
    "    records = dataframe.to_dict(orient='records')\n",
    "    # collection의 저장되어있던 데이터 삭제\n",
    "    collection.delete_many({})\n",
    "    collection.insert_many(records)"
   ]
  },
  {
   "cell_type": "code",
   "execution_count": 19,
   "metadata": {},
   "outputs": [
    {
     "name": "stdout",
     "output_type": "stream",
     "text": [
      "01\n",
      "02\n",
      "03\n",
      "04\n",
      "05\n",
      "06\n",
      "07\n",
      "08\n",
      "09\n",
      "10\n",
      "11\n",
      "12\n"
     ]
    }
   ],
   "source": [
    "for month in MONTHS:\n",
    "    print(month)\n",
    "    GPS_db_name = \"GPS_data\"\n",
    "    stay_point_db_name = \"stay_point\"\n",
    "\n",
    "    GPS_collection_name = f\"month_{month}\"\n",
    "    stay_point_collection_name = f\"stay_point_{month}\"\n",
    "\n",
    "    GPS_data = pd.read_csv(ABSOLUTE_PATH + f\"GPS_data/month_{month}.csv\")\n",
    "    stay_point_data = pd.read_csv(ABSOLUTE_PATH + f\"stay_point/stay_point_{month}.csv\")\n",
    "\n",
    "    GPS_collection = connect_to_mongodb(MONGO_URI, GPS_db_name, GPS_collection_name)\n",
    "    stay_point_collection = connect_to_mongodb(MONGO_URI, stay_point_db_name, stay_point_collection_name)\n",
    "\n",
    "\n",
    "    insert_to_collection(GPS_collection, GPS_data)\n",
    "    insert_to_collection(stay_point_collection, stay_point_data)"
   ]
  }
 ],
 "metadata": {
  "kernelspec": {
   "display_name": "Python 3",
   "language": "python",
   "name": "python3"
  },
  "language_info": {
   "codemirror_mode": {
    "name": "ipython",
    "version": 3
   },
   "file_extension": ".py",
   "mimetype": "text/x-python",
   "name": "python",
   "nbconvert_exporter": "python",
   "pygments_lexer": "ipython3",
   "version": "3.11.6"
  }
 },
 "nbformat": 4,
 "nbformat_minor": 2
}
