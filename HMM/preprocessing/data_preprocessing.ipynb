{
 "cells": [
  {
   "cell_type": "markdown",
   "metadata": {},
   "source": [
    "## Raw data concatenate and remove outlier\n",
    "    제주 데이터 허브 - https://www.jejudatahub.net/\n",
    "    - [교통, 안전] 월별 렌터카 체류 빈도[50m 격자]\n",
    "    - [교통, 안전] 월별 렌터카 위치정보\n",
    "    2020년, 2021년 동일 월 데이터  concatenate"
   ]
  },
  {
   "cell_type": "code",
   "execution_count": 1,
   "metadata": {},
   "outputs": [],
   "source": [
    "import pandas as pd"
   ]
  },
  {
   "cell_type": "code",
   "execution_count": 2,
   "metadata": {},
   "outputs": [],
   "source": [
    "ABSOLUTE_PATH = \"C:\\\\Users\\\\rudnf\\\\vscode\\\\Graduation\\\\final\\\\data\\\\\"\n",
    "MONTHS = [\"01\", \"02\", \"03\", \"04\", \"05\", \"06\", \"07\", \"08\", \"09\", \"10\", \"11\", \"12\"]"
   ]
  },
  {
   "cell_type": "code",
   "execution_count": 3,
   "metadata": {},
   "outputs": [],
   "source": [
    "def remove_invalid_GPS_data(df, month):\n",
    "    # Latitude\n",
    "    top = 33.567186\n",
    "    bottom = 33.112476\n",
    "        \n",
    "    # Longitude\n",
    "    left = 126.143480\n",
    "    right = 126.973814\n",
    "\n",
    "    df = df.loc[(df['longitude'] > left) & (df['longitude'] < right) &\n",
    "                (df['latitude'] > bottom) & (df['latitude'] < top)]\n",
    "\n",
    "    df.isetitem(df.columns.get_loc('collection_dt'), pd.to_datetime(df['collection_dt'], format='%Y%m%d%H%M%S%f'))\n",
    "    df.isetitem(df.columns.get_loc('collection_dt'), df['collection_dt'].dt.floor('s'))\n",
    "    \n",
    "    df = df.loc[df['collection_dt'].dt.month == int(month)]\n",
    "\n",
    "    return df"
   ]
  },
  {
   "cell_type": "code",
   "execution_count": 4,
   "metadata": {},
   "outputs": [],
   "source": [
    "def remove_invalid_stay_point_data(df):\n",
    "    # Latitude\n",
    "    top = 33.567186\n",
    "    bottom = 33.112476\n",
    "        \n",
    "    # Longitude\n",
    "    left = 126.143480\n",
    "    right = 126.973814\n",
    "\n",
    "    df = df.loc[(df['longitude'] > left) & (df['longitude'] < right) &\n",
    "                (df['latitude'] > bottom) & (df['latitude'] < top)]\n",
    "\n",
    "    return df"
   ]
  },
  {
   "cell_type": "code",
   "execution_count": 5,
   "metadata": {},
   "outputs": [
    {
     "name": "stdout",
     "output_type": "stream",
     "text": [
      "01\n",
      "02\n",
      "03\n",
      "04\n",
      "05\n",
      "06\n",
      "07\n",
      "08\n",
      "09\n",
      "10\n",
      "11\n",
      "12\n"
     ]
    }
   ],
   "source": [
    "for month in MONTHS:\n",
    "    print(month)\n",
    "    stay_point_2020 = pd.read_csv(ABSOLUTE_PATH + f\"stay_point\\\\체류거점_2020_{month}.csv\")\n",
    "    stay_point_2021 = pd.read_csv(ABSOLUTE_PATH + f\"stay_point\\\\체류거점_2021_{month}.csv\")\n",
    "    \n",
    "    stay_point_df = pd.concat([stay_point_2020, stay_point_2021], axis=0)[['longitude', 'latitude']]\n",
    "    stay_point_df = remove_invalid_stay_point_data(stay_point_df)\n",
    "      \n",
    "    gps_2020 = pd.read_csv(ABSOLUTE_PATH + f\"\\\\GPS_data\\\\위치정보_2020_{month}.csv\")\n",
    "    gps_2021 = pd.read_csv(ABSOLUTE_PATH + f\"\\\\GPS_data\\\\위치정보_2021_{month}.csv\")\n",
    "    \n",
    "    gps_df = pd.concat([gps_2020, gps_2021], axis=0)\n",
    "    \n",
    "    gps_df = gps_df.dropna(axis=0)  # 결측치 제거\n",
    "    \n",
    "    gps_df = remove_invalid_GPS_data(gps_df, month) # 이상치(GPS가 벗어난 데이터, 월이 안맞는 데이터) 제거\n",
    "    \n",
    "    stay_point_df.to_csv(ABSOLUTE_PATH + f\"stay_point\\\\stay_point_{month}.csv\", index=False)\n",
    "    gps_df.to_csv(ABSOLUTE_PATH + f\"\\\\GPS_data\\\\month_{month}.csv\", index=False)"
   ]
  }
 ],
 "metadata": {
  "kernelspec": {
   "display_name": "Python 3",
   "language": "python",
   "name": "python3"
  },
  "language_info": {
   "codemirror_mode": {
    "name": "ipython",
    "version": 3
   },
   "file_extension": ".py",
   "mimetype": "text/x-python",
   "name": "python",
   "nbconvert_exporter": "python",
   "pygments_lexer": "ipython3",
   "version": "3.11.6"
  },
  "orig_nbformat": 4
 },
 "nbformat": 4,
 "nbformat_minor": 2
}
